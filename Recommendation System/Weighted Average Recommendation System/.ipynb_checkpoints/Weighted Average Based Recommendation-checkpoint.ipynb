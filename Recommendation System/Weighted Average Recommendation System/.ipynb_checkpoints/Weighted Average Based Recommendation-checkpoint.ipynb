{
 "cells": [
  {
   "cell_type": "code",
   "execution_count": 1,
   "metadata": {},
   "outputs": [
    {
     "name": "stderr",
     "output_type": "stream",
     "text": [
      "UsageError: Line magic function `%` not found.\n"
     ]
    }
   ],
   "source": [
    "import pandas as pd\n",
    "import numpy as np\n",
    "import seaborn as sns\n",
    "import matplotlib.pyplot as plt\n",
    "% matplotlib inline"
   ]
  },
  {
   "cell_type": "code",
   "execution_count": null,
   "metadata": {},
   "outputs": [],
   "source": [
    "credit = pd.read_csv('tmdb_5000_credits.csv')\n",
    "movie_dataset = pd.read_csv('tmdb_5000_movies.csv')"
   ]
  },
  {
   "cell_type": "code",
   "execution_count": null,
   "metadata": {},
   "outputs": [],
   "source": [
    "credit.head()"
   ]
  },
  {
   "cell_type": "code",
   "execution_count": null,
   "metadata": {},
   "outputs": [],
   "source": [
    "movie_dataset.head()"
   ]
  },
  {
   "cell_type": "code",
   "execution_count": null,
   "metadata": {},
   "outputs": [],
   "source": [
    "credit.shape"
   ]
  },
  {
   "cell_type": "code",
   "execution_count": null,
   "metadata": {},
   "outputs": [],
   "source": [
    "movie_dataset.shape"
   ]
  },
  {
   "cell_type": "code",
   "execution_count": null,
   "metadata": {},
   "outputs": [],
   "source": [
    "# We can see that both the data has same id field,but with different names, In credit it is movie_id and in movie_dataset \n",
    "# it is id. So, let us rename it as common parameter.\n",
    "credit_update =credit.rename(index = str, columns={'movie_id':'id'})"
   ]
  },
  {
   "cell_type": "code",
   "execution_count": null,
   "metadata": {},
   "outputs": [],
   "source": [
    "credit_update"
   ]
  },
  {
   "cell_type": "code",
   "execution_count": null,
   "metadata": {},
   "outputs": [],
   "source": [
    "# Merging both dataset based on id\n",
    "movie_merge = movie_dataset.merge(credit_update,on = 'id')\n",
    "movie_merge.head()"
   ]
  },
  {
   "cell_type": "code",
   "execution_count": null,
   "metadata": {},
   "outputs": [],
   "source": [
    "movie_merge.shape"
   ]
  },
  {
   "cell_type": "code",
   "execution_count": null,
   "metadata": {},
   "outputs": [],
   "source": [
    "movie_merge.columns"
   ]
  },
  {
   "cell_type": "code",
   "execution_count": null,
   "metadata": {},
   "outputs": [],
   "source": [
    "movie_merge_cleaned = movie_merge.drop(columns=['homepage','title_x','title_y','status','production_countries'])\n",
    "movie_merge_cleaned.head()"
   ]
  },
  {
   "cell_type": "code",
   "execution_count": null,
   "metadata": {},
   "outputs": [],
   "source": [
    "movie_merge_cleaned.info()"
   ]
  },
  {
   "cell_type": "raw",
   "metadata": {},
   "source": [
    "# Weighted Average formula for each movie's Average Rating\n",
    "\n",
    "#####                                  Rv + Cm\n",
    "#####                       W  =     -------------\n",
    "#####                                   v + m\n",
    "\n",
    " Where,\n",
    " \n",
    " W = Weighted Rating\n",
    " R = Average for the movie as a number from 0 to 10(mean) =(Rating)(i.e, vote_average in this dataset)\n",
    " v = Number of votes for the movie = (votes)(i.e, vote_count in this dataset)\n",
    " m = minimum votes required to be listed in top 250 (Currently 3000)\n",
    " C = the mean vote across the whole report (currently 6.9)\n",
    "                                                          "
   ]
  },
  {
   "cell_type": "code",
   "execution_count": null,
   "metadata": {},
   "outputs": [],
   "source": [
    "# Calculate all the components based on  the above formula\n",
    "v = movie_merge_cleaned['vote_count']\n",
    "R = movie_merge_cleaned['vote_average']\n",
    "C = movie_merge_cleaned['vote_average'].mean()\n",
    "m = movie_merge_cleaned['vote_count'].quantile(0.70)\n",
    "# Movie which has more than 70 Percentile of votes will only be given rating"
   ]
  },
  {
   "cell_type": "code",
   "execution_count": null,
   "metadata": {},
   "outputs": [],
   "source": [
    "movie_merge_cleaned['weighted_average'] = ((R*v)+(C*m))/(v+m)\n",
    "movie_merge_cleaned.head()"
   ]
  },
  {
   "cell_type": "code",
   "execution_count": null,
   "metadata": {},
   "outputs": [],
   "source": [
    "movie_sorted_ranking = movie_merge_cleaned.sort_values('weighted_average', ascending = False)\n",
    "movie_sorted_ranking[['original_title','vote_average','weighted_average','popularity','vote_count']].head()"
   ]
  },
  {
   "cell_type": "code",
   "execution_count": null,
   "metadata": {},
   "outputs": [],
   "source": [
    "weighted_average = movie_sorted_ranking.sort_values('weighted_average',ascending = False)\n",
    "plt.figure(figsize = (12,6))\n",
    "axis_1 = sns.barplot(x = weighted_average['weighted_average'].head(15),y = weighted_average['original_title'].head(15))\n",
    "plt.xlabel('Weighted Average Score', weight = 'bold')\n",
    "plt.ylabel('Movie Title', weight = 'bold')\n",
    "plt.title('Best Movie by Average Votes',weight = 'bold')\n"
   ]
  },
  {
   "cell_type": "code",
   "execution_count": null,
   "metadata": {},
   "outputs": [],
   "source": [
    "weighted_average = movie_sorted_ranking.sort_values('popularity',ascending = False)\n",
    "plt.figure(figsize = (12,6))\n",
    "axis_1 = sns.barplot(x = weighted_average['popularity'].head(15),y = weighted_average['original_title'].head(15))\n",
    "plt.xlabel('Popular Votes', weight = 'bold')\n",
    "plt.ylabel('Movie Title', weight = 'bold')\n",
    "plt.title('Best Movie by Popularity',weight = 'bold')\n"
   ]
  },
  {
   "cell_type": "code",
   "execution_count": null,
   "metadata": {},
   "outputs": [],
   "source": []
  }
 ],
 "metadata": {
  "kernelspec": {
   "display_name": "Python 3",
   "language": "python",
   "name": "python3"
  },
  "language_info": {
   "codemirror_mode": {
    "name": "ipython",
    "version": 3
   },
   "file_extension": ".py",
   "mimetype": "text/x-python",
   "name": "python",
   "nbconvert_exporter": "python",
   "pygments_lexer": "ipython3",
   "version": "3.7.6"
  }
 },
 "nbformat": 4,
 "nbformat_minor": 4
}
